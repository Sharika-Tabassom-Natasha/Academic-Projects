{
  "nbformat": 4,
  "nbformat_minor": 0,
  "metadata": {
    "colab": {
      "name": "Color_Detection.ipynb",
      "provenance": [],
      "collapsed_sections": [
        "_8u4VPk2c3cE",
        "xMchcHzrIyqN",
        "ToJ3KmTiKT7H",
        "aJu0C__jLEh1"
      ]
    },
    "kernelspec": {
      "name": "python3",
      "display_name": "Python 3"
    },
    "language_info": {
      "name": "python"
    },
    "accelerator": "GPU"
  },
  "cells": [
    {
      "cell_type": "markdown",
      "metadata": {
        "id": "MIImkOU8DGV2"
      },
      "source": [
        "#Color Detection Sytem"
      ]
    },
    {
      "cell_type": "code",
      "metadata": {
        "id": "HJ1dVc9mgbN8"
      },
      "source": [
        "import math\n",
        "import torch\n",
        "import numpy as np\n",
        "import pandas as pd\n",
        "from PIL import Image\n",
        "import torch.nn as nn\n",
        "import torch.optim as optim\n",
        "import torch.nn.functional as F\n",
        "import torchvision\n",
        "import torchvision.transforms as transforms\n",
        "import torchvision.datasets as dsets\n",
        "from torch.utils.data import Dataset, random_split\n",
        "from sklearn.preprocessing import StandardScaler\n",
        "import matplotlib\n",
        "import matplotlib.pyplot as plt"
      ],
      "execution_count": null,
      "outputs": []
    },
    {
      "cell_type": "code",
      "metadata": {
        "id": "mbBLv3NSKQvK",
        "colab": {
          "base_uri": "https://localhost:8080/"
        },
        "outputId": "4dd38152-af88-4368-db90-35ff7d6e9e4a"
      },
      "source": [
        "from google.colab import drive\n",
        "drive.mount('/content/drive')"
      ],
      "execution_count": null,
      "outputs": [
        {
          "output_type": "stream",
          "text": [
            "Mounted at /content/drive\n"
          ],
          "name": "stdout"
        }
      ]
    },
    {
      "cell_type": "code",
      "metadata": {
        "id": "LcVyh-c0C1Kn"
      },
      "source": [
        "# Hyperparameters\n",
        "batch_size = 64\n",
        "num_iters = 30000\n",
        "num_hidden = 32 \n",
        "learning_rate = 0.0001\n",
        "\n",
        "input_dim = 1*3\n",
        "output_dim = 11\n",
        "\n",
        "# Device\n",
        "device = torch.device(\"cuda:0\" if torch.cuda.is_available() else \"cpu\")"
      ],
      "execution_count": null,
      "outputs": []
    },
    {
      "cell_type": "markdown",
      "metadata": {
        "id": "9OrEiWXrcMTq"
      },
      "source": [
        "#Dataset Design"
      ]
    },
    {
      "cell_type": "code",
      "metadata": {
        "id": "NaEnvQJ-C1l3"
      },
      "source": [
        "path = '/content/drive/MyDrive/Color Detection(SC Project)/color_dataset.csv'\n",
        "df = pd.read_csv(path)\n",
        "color_data = pd.read_csv(path)\n",
        "color_data.label = pd.Categorical(pd.factorize(color_data.label)[0])"
      ],
      "execution_count": null,
      "outputs": []
    },
    {
      "cell_type": "code",
      "metadata": {
        "colab": {
          "base_uri": "https://localhost:8080/"
        },
        "id": "Jr9e_dzDJj6L",
        "outputId": "856ffadd-5940-4d75-b19b-6bebcbb7427f"
      },
      "source": [
        "label_dict = {}\n",
        "label_dict = pd.Series(df.label.values,index=color_data.label).to_dict()\n",
        "print(label_dict)"
      ],
      "execution_count": null,
      "outputs": [
        {
          "output_type": "stream",
          "text": [
            "{0: 'Blue', 1: 'Brown', 2: 'Green', 3: 'Pink', 4: 'Yellow', 5: 'Orange', 6: 'Purple', 7: 'Red', 8: 'Grey', 9: 'White', 10: 'Black'}\n"
          ],
          "name": "stdout"
        }
      ]
    },
    {
      "cell_type": "code",
      "metadata": {
        "colab": {
          "base_uri": "https://localhost:8080/"
        },
        "id": "2iWQumTiESsu",
        "outputId": "cc3b9583-b28f-4fac-eaa2-c3146282a6d5"
      },
      "source": [
        "class ColorDataset(Dataset):\n",
        "\n",
        "    def __init__(self, df):\n",
        "\n",
        "      x = df.iloc[:, 0:3].values\n",
        "      y = df.iloc[:, 3].values\n",
        "      \n",
        "      sc = StandardScaler()\n",
        "      x_data = sc.fit_transform(x)\n",
        "      y_data = y\n",
        "\n",
        "      self.x_data = torch.tensor(x_data, dtype=torch.float32)\n",
        "      self.y_data = torch.tensor(y_data)\n",
        "\n",
        "    def __len__(self):\n",
        "        return len(self.y_data)\n",
        "    \n",
        "    def __getitem__(self, idx):            \n",
        "        return self.x_data[idx], self.y_data[idx]\n",
        "\n",
        "all_data = ColorDataset(color_data)\n",
        "print(len(all_data))"
      ],
      "execution_count": null,
      "outputs": [
        {
          "output_type": "stream",
          "text": [
            "5052\n"
          ],
          "name": "stdout"
        }
      ]
    },
    {
      "cell_type": "code",
      "metadata": {
        "id": "uL8n2L-7MXSI"
      },
      "source": [
        "length = len(all_data)\n",
        "train_len = math.ceil(length * 0.8)\n",
        "test_len = math.floor(length * 0.2)\n",
        "train_dataset, test_dataset = random_split(all_data, (train_len, test_len))"
      ],
      "execution_count": null,
      "outputs": []
    },
    {
      "cell_type": "code",
      "metadata": {
        "id": "a8PVuWQzGLDF"
      },
      "source": [
        "num_epochs = num_iters / (len(train_dataset) / batch_size)\n",
        "num_epochs = int(num_epochs)\n",
        "\n",
        "train_loader = torch.utils.data.DataLoader(dataset=train_dataset, \n",
        "                                           batch_size=batch_size, \n",
        "                                           shuffle=True)\n",
        "\n",
        "test_loader = torch.utils.data.DataLoader(dataset=test_dataset, \n",
        "                                          batch_size=2, \n",
        "                                          shuffle=False)  "
      ],
      "execution_count": null,
      "outputs": []
    },
    {
      "cell_type": "markdown",
      "metadata": {
        "id": "XV5AWnGrcSnr"
      },
      "source": [
        "#Neural Network Design"
      ]
    },
    {
      "cell_type": "code",
      "metadata": {
        "id": "0VWJqgy_IPSN"
      },
      "source": [
        "class NeuralNetworkModel(nn.Module):\n",
        "    def __init__(self, input_size, num_classes, num_hidden):\n",
        "        super().__init__()\n",
        "\n",
        "        ### 1st hidden layer: 784 --> 100\n",
        "        self.linear_1 = nn.Linear(input_size, 24)\n",
        "        self.relu_1 = nn.ReLU()\n",
        "\n",
        "        ### 2nd hidden layer: 100 --> 100\n",
        "        self.linear_2 = nn.Linear(24, 24)\n",
        "        self.relu_2 = nn.ReLU()\n",
        "\n",
        "        ### 3rd hidden layer: 100 --> 100\n",
        "        self.linear_3 = nn.Linear(24, 24)\n",
        "        self.relu_3 = nn.ReLU()\n",
        "\n",
        "        ### 4th hidden layer: 100 --> 100\n",
        "        self.linear_4 = nn.Linear(24, 16)\n",
        "        self.relu_4 = nn.ReLU()\n",
        "\n",
        "        ### Output layer: 100 --> 11\n",
        "        self.linear_out = nn.Linear(16, num_classes)\n",
        "\n",
        "    def forward(self, x):\n",
        "\n",
        "        ### 1st hidden layer\n",
        "        out  = self.linear_1(x)\n",
        "        out = self.relu_1(out)\n",
        "        \n",
        "        ### 2nd hidden layer\n",
        "        out  = self.linear_2(out)\n",
        "        out = self.relu_2(out)\n",
        "\n",
        "        ### 3rd hidden layer\n",
        "        out  = self.linear_3(out)\n",
        "        out = self.relu_3(out)\n",
        "\n",
        "        ### 4th hidden layer\n",
        "        out  = self.linear_4(out)\n",
        "        out = self.relu_4(out)\n",
        "\n",
        "        # Linear layer (output)\n",
        "        probas  = self.linear_out(out)\n",
        "        return probas"
      ],
      "execution_count": null,
      "outputs": []
    },
    {
      "cell_type": "code",
      "metadata": {
        "colab": {
          "base_uri": "https://localhost:8080/"
        },
        "id": "qFMxYCyJKjmJ",
        "outputId": "9134165d-bc85-4d1b-d207-6b13ea55c1fd"
      },
      "source": [
        "'''\n",
        "INSTANTIATE MODEL CLASS\n",
        "'''\n",
        "model = NeuralNetworkModel(input_size = input_dim,\n",
        "                           num_classes = output_dim,\n",
        "                           num_hidden = num_hidden)\n",
        "# To enable GPU\n",
        "model.to(device)"
      ],
      "execution_count": null,
      "outputs": [
        {
          "output_type": "execute_result",
          "data": {
            "text/plain": [
              "NeuralNetworkModel(\n",
              "  (linear_1): Linear(in_features=3, out_features=24, bias=True)\n",
              "  (relu_1): ReLU()\n",
              "  (linear_2): Linear(in_features=24, out_features=24, bias=True)\n",
              "  (relu_2): ReLU()\n",
              "  (linear_3): Linear(in_features=24, out_features=24, bias=True)\n",
              "  (relu_3): ReLU()\n",
              "  (linear_4): Linear(in_features=24, out_features=16, bias=True)\n",
              "  (relu_4): ReLU()\n",
              "  (linear_out): Linear(in_features=16, out_features=11, bias=True)\n",
              ")"
            ]
          },
          "metadata": {
            "tags": []
          },
          "execution_count": 26
        }
      ]
    },
    {
      "cell_type": "code",
      "metadata": {
        "id": "G4Fq9lhdKo_Y"
      },
      "source": [
        "criterion = nn.CrossEntropyLoss()\n",
        "optimizer = torch.optim.Adam(model.parameters(), lr=learning_rate)"
      ],
      "execution_count": null,
      "outputs": []
    },
    {
      "cell_type": "code",
      "metadata": {
        "id": "rrzuxb08KpJF"
      },
      "source": [
        "from sklearn.metrics import confusion_matrix\n",
        "\n",
        "iter = 0\n",
        "loss_data = []\n",
        "accuracy_data = []\n",
        "\n",
        "nb_classes = 11\n",
        "predlist=torch.zeros(0,dtype=torch.long, device='cpu')\n",
        "lbllist=torch.zeros(0,dtype=torch.long, device='cpu')\n",
        "\n",
        "for epoch in range(num_epochs):\n",
        "    for i, (features, labels) in enumerate(train_loader):\n",
        "\n",
        "        features = features.to(device)\n",
        "        labels = labels.to(device)\n",
        "        \n",
        "        # Clear gradients w.r.t. parameters\n",
        "        optimizer.zero_grad()\n",
        "\n",
        "        # Forward pass to get output/logits\n",
        "        outputs = model(features) \n",
        "\n",
        "        # Calculate Loss: softmax --> cross entropy loss\n",
        "        loss = criterion(outputs, labels)\n",
        "\n",
        "        # Getting gradients w.r.t. parameters\n",
        "        loss.backward()\n",
        "\n",
        "        # Updating parameters\n",
        "        optimizer.step()\n",
        "\n",
        "        iter += 1\n",
        "\n",
        "        if iter % 500 == 0:\n",
        "            # Calculate Accuracy         \n",
        "            correct = 0\n",
        "            total = 0\n",
        "            # Iterate through test dataset\n",
        "            for features, labels in test_loader:\n",
        "               \n",
        "                features = features.to(device)\n",
        "                labels = labels.to(device)\n",
        "                print(\"Feature\")\n",
        "                print(features)\n",
        "                # Forward pass only to get logits/output\n",
        "                outputs = model(features)\n",
        "                \n",
        "                # Get predictions from the maximum value\n",
        "                _, predicted = torch.max(outputs, 1)\n",
        "                # Append batch prediction results\n",
        "                predlist=torch.cat([predlist,predicted.view(-1).cpu()])\n",
        "                lbllist=torch.cat([lbllist,labels.view(-1).cpu()])\n",
        "\n",
        "                # Total number of labels\n",
        "                total += labels.size(0)\n",
        "\n",
        "                # Total correct predictions\n",
        "                if torch.cuda.is_available():\n",
        "                    correct += (predicted.cpu() == labels.cpu()).sum() \n",
        "                else:\n",
        "                    correct += (predicted == labels).sum()\n",
        "\n",
        "            accuracy = 100 * correct.item() / total\n",
        "            loss_data.append(loss.item())\n",
        "            accuracy_data.append(accuracy)\n",
        "            # Print Loss\n",
        "            print('Iteration: {}. Loss: {}. Accuracy: {}'.format(iter, loss.item(), accuracy))"
      ],
      "execution_count": null,
      "outputs": []
    },
    {
      "cell_type": "markdown",
      "metadata": {
        "id": "o6hsfs7dcaKP"
      },
      "source": [
        "# Loss and Accuracy Graph"
      ]
    },
    {
      "cell_type": "code",
      "metadata": {
        "id": "5caq1FquSUC7",
        "colab": {
          "base_uri": "https://localhost:8080/",
          "height": 279
        },
        "outputId": "057d4ca6-fc8d-4945-e0cc-1137c9a4d4e7"
      },
      "source": [
        "import matplotlib\n",
        "import matplotlib.pyplot as plt\n",
        "\n",
        "plt.plot(loss_data)\n",
        "plt.ylabel('Cross Entropy Loss')\n",
        "plt.xlabel('Iteration (in every 500)')\n",
        "plt.show()"
      ],
      "execution_count": null,
      "outputs": [
        {
          "output_type": "display_data",
          "data": {
            "image/png": "[encoded data removed]",
            "text/plain": [
              "<Figure size 432x288 with 1 Axes>"
            ]
          },
          "metadata": {
            "tags": [],
            "needs_background": "light"
          }
        }
      ]
    },
    {
      "cell_type": "code",
      "metadata": {
        "id": "snv4KXkCOVJC",
        "colab": {
          "base_uri": "https://localhost:8080/",
          "height": 279
        },
        "outputId": "dc591d9e-5e8b-44a1-93d5-8eef2f3497a0"
      },
      "source": [
        "import matplotlib\n",
        "import matplotlib.pyplot as plt\n",
        "\n",
        "plt.plot(accuracy_data)\n",
        "plt.ylabel('Accuracy')\n",
        "plt.xlabel('Iteration (in every 500)')\n",
        "plt.show()"
      ],
      "execution_count": null,
      "outputs": [
        {
          "output_type": "display_data",
          "data": {
            "image/png": "[encoded data removed]",
            "text/plain": [
              "<Figure size 432x288 with 1 Axes>"
            ]
          },
          "metadata": {
            "tags": [],
            "needs_background": "light"
          }
        }
      ]
    },
    {
      "cell_type": "markdown",
      "metadata": {
        "id": "_8u4VPk2c3cE"
      },
      "source": [
        "# Prediction"
      ]
    },
    {
      "cell_type": "code",
      "metadata": {
        "colab": {
          "base_uri": "https://localhost:8080/"
        },
        "id": "GP-ar8TiPZUv",
        "outputId": "a9d2386e-931d-4196-c190-3bb167d8c4fc"
      },
      "source": [
        "for features, labels in test_loader:\n",
        "  break\n",
        "predictions = model.forward(features.to(device))\n",
        "predictions = torch.argmax(predictions, dim=1)\n",
        "print(labels)\n",
        "print('Predicted labels', predictions.cpu().numpy())"
      ],
      "execution_count": null,
      "outputs": [
        {
          "output_type": "stream",
          "text": [
            "tensor([2, 4])\n",
            "Predicted labels [2 4]\n"
          ],
          "name": "stdout"
        }
      ]
    },
    {
      "cell_type": "code",
      "metadata": {
        "colab": {
          "base_uri": "https://localhost:8080/"
        },
        "id": "0hZAvudbnF-T",
        "outputId": "699353f5-687e-4915-8d7c-f92235de6f72"
      },
      "source": [
        "RGB = []\n",
        "#red = int(input(\"Red Value:\"))\n",
        "#green = int(input(\"Green Value:\"))\n",
        "#blue = int(input(\"Blue Value:\"))\n",
        "red = 255\n",
        "green = 0\n",
        "blue = 0\n",
        "\n",
        "print(\"RGB Value: \" + str(red) + \", \" + str(green) + \", \" + str(blue))\n"
      ],
      "execution_count": null,
      "outputs": [
        {
          "output_type": "stream",
          "text": [
            "RGB Value: 255, 0, 0\n"
          ],
          "name": "stdout"
        }
      ]
    },
    {
      "cell_type": "code",
      "metadata": {
        "id": "oZUDKqt1sbj4"
      },
      "source": [
        "from pandas import DataFrame\n",
        "People_List = [[red,green,blue,0],[0,0,0,0]]\n",
        "\n",
        "df = DataFrame (People_List, columns=['red','green','blue','label'])\n",
        "input_data = ColorDataset(df)"
      ],
      "execution_count": null,
      "outputs": []
    },
    {
      "cell_type": "code",
      "metadata": {
        "colab": {
          "base_uri": "https://localhost:8080/"
        },
        "id": "EHjWiWSBtFng",
        "outputId": "551eab05-21e0-4c52-8efb-e15c501f066c"
      },
      "source": [
        "for features, labels in input_data:\n",
        "  predictions = model.forward(features.to(device))\n",
        "  predictions = torch.argmax(predictions)\n",
        "  a = predictions.cpu().numpy()\n",
        "  print(list(label_dict.values())[list(label_dict.keys()).index(a[()])])"
      ],
      "execution_count": null,
      "outputs": [
        {
          "output_type": "stream",
          "text": [
            "Red\n",
            "Blue\n"
          ],
          "name": "stdout"
        }
      ]
    },
    {
      "cell_type": "code",
      "metadata": {
        "id": "atZEY7zOxpGG"
      },
      "source": [
        ""
      ],
      "execution_count": null,
      "outputs": []
    },
    {
      "cell_type": "code",
      "metadata": {
        "colab": {
          "base_uri": "https://localhost:8080/",
          "height": 279
        },
        "id": "ioXkckaHLtjv",
        "outputId": "dc6efd3d-c298-410c-c8bb-22d1442d9e73"
      },
      "source": [
        "import matplotlib\n",
        "import matplotlib.pyplot as plt\n",
        "\n",
        "plt.plot(loss_data)\n",
        "plt.ylabel('Cross Entropy Loss')\n",
        "plt.xlabel('Iteration (in every 500)')\n",
        "plt.show()"
      ],
      "execution_count": null,
      "outputs": [
        {
          "output_type": "display_data",
          "data": {
            "image/png": "[encoded data removed]",
            "text/plain": [
              "<Figure size 432x288 with 1 Axes>"
            ]
          },
          "metadata": {
            "tags": [],
            "needs_background": "light"
          }
        }
      ]
    },
    {
      "cell_type": "code",
      "metadata": {
        "colab": {
          "base_uri": "https://localhost:8080/",
          "height": 281
        },
        "id": "73qilXetLtjv",
        "outputId": "b17c662e-63ad-4c4f-907f-6ccc74412fe7"
      },
      "source": [
        "import matplotlib\n",
        "import matplotlib.pyplot as plt\n",
        "\n",
        "plt.plot(accuracy_data)\n",
        "plt.ylabel('Accuracy')\n",
        "plt.xlabel('Iteration (in every 500)')\n",
        "plt.show()"
      ],
      "execution_count": null,
      "outputs": [
        {
          "output_type": "display_data",
          "data": {
            "image/png": "[encoded data removed]",
            "text/plain": [
              "<Figure size 432x288 with 1 Axes>"
            ]
          },
          "metadata": {
            "tags": [],
            "needs_background": "light"
          }
        }
      ]
    }
  ]
}